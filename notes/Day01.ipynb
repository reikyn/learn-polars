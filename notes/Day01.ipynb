{
 "cells": [
  {
   "cell_type": "markdown",
   "id": "bb385f84",
   "metadata": {},
   "source": [
    "# **Day 01 - Introducing Polars**"
   ]
  }
 ],
 "metadata": {
  "language_info": {
   "name": "python"
  }
 },
 "nbformat": 4,
 "nbformat_minor": 5
}
